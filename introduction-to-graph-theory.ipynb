{
 "cells": [
  {
   "cell_type": "markdown",
   "metadata": {},
   "source": [
    "# **A JUMBLED introduction to Graph Theory**"
   ]
  },
  {
   "cell_type": "markdown",
   "metadata": {},
   "source": [
    "# Köningsberg bridges\n",
    "\n",
    "![\"\"](Koningsberg-bridges.png)"
   ]
  },
  {
   "cell_type": "code",
   "execution_count": null,
   "metadata": {},
   "outputs": [],
   "source": []
  },
  {
   "cell_type": "markdown",
   "metadata": {},
   "source": [
    "**Euler** was asked to find a nice path across the seven Köningsberg bridges that visits the "
   ]
  },
  {
   "cell_type": "markdown",
   "metadata": {},
   "source": [
    "![](Koningsberg-graph.png)"
   ]
  },
  {
   "cell_type": "markdown",
   "metadata": {},
   "source": [
    "# Definition\n",
    "A graph G = (V, E) is \n",
    "- a pair of vertices (or nodes) V, and\n",
    "- a set of edges E, \n",
    "- both assumed finite i.e. \n",
    "- |V| = n and |E| = m."
   ]
  },
  {
   "cell_type": "markdown",
   "metadata": {},
   "source": [
    "# Graph Representation\n",
    "![\"Sample Directed Graph](sample-graph.png)\n",
    "* adjacency matrix\n",
    "* adjacency list\n",
    "* adjacency set\n",
    "* adjacency dictionary\n",
    "* left-child right sibling"
   ]
  },
  {
   "cell_type": "markdown",
   "metadata": {},
   "source": [
    "We are sticking to **adjacency sets**. Their benefits: \n",
    "* as compact as adjacency lists for **sparse** graphs\n",
    "* O(1) look up, because sets!"
   ]
  },
  {
   "cell_type": "markdown",
   "metadata": {},
   "source": [
    "## Density of a graph:\n",
    "\n",
    "\\begin{equation*}\n",
    "D = \\frac{2|E|}{|V|\\,(|V|-1)}\n",
    "\\end{equation*}\n"
   ]
  },
  {
   "cell_type": "markdown",
   "metadata": {},
   "source": [
    "### Sparse graph:\n",
    "\\begin{equation*}\n",
    "|E| = O(|V|)\n",
    "\\end{equation*}\n",
    "\n",
    "![](sparse-graph.png)"
   ]
  },
  {
   "cell_type": "markdown",
   "metadata": {},
   "source": [
    "### Dense graph (Also complete):\n",
    "\\begin{equation*}\n",
    "|E| = O(|V|^2)\n",
    "\\end{equation*}\n",
    "![](complete-graph.png)"
   ]
  },
  {
   "cell_type": "code",
   "execution_count": 50,
   "metadata": {},
   "outputs": [],
   "source": [
    "G = {\n",
    "'a': set('bcdef'),\n",
    "'b': set('ce'),\n",
    "'c': set('d'),\n",
    "'d': set('e'),\n",
    "'e': set('f'),\n",
    "'f': set('cgh'),\n",
    "'g': set('fh'),\n",
    "'h': set('fg')\n",
    "}"
   ]
  },
  {
   "cell_type": "code",
   "execution_count": 45,
   "metadata": {},
   "outputs": [
    {
     "data": {
      "text/plain": [
       "{'a': {'b', 'c', 'd', 'e', 'f'},\n",
       " 'b': {'c', 'e'},\n",
       " 'c': {'d'},\n",
       " 'd': {'e'},\n",
       " 'e': {'f'},\n",
       " 'f': {'c', 'g', 'h'},\n",
       " 'g': {'f', 'h'},\n",
       " 'h': {'f', 'g'}}"
      ]
     },
     "execution_count": 45,
     "metadata": {},
     "output_type": "execute_result"
    }
   ],
   "source": [
    "G"
   ]
  },
  {
   "cell_type": "markdown",
   "metadata": {},
   "source": [
    "## Is node _`a`_ connected to node _b_?"
   ]
  },
  {
   "cell_type": "code",
   "execution_count": 46,
   "metadata": {},
   "outputs": [
    {
     "data": {
      "text/plain": [
       "True"
      ]
     },
     "execution_count": 46,
     "metadata": {},
     "output_type": "execute_result"
    }
   ],
   "source": [
    "'b' in G['a']  # O(1)"
   ]
  },
  {
   "cell_type": "code",
   "execution_count": 47,
   "metadata": {},
   "outputs": [
    {
     "data": {
      "text/plain": [
       "5"
      ]
     },
     "execution_count": 47,
     "metadata": {},
     "output_type": "execute_result"
    }
   ],
   "source": [
    "len(G['a'])  # degree of node a (how many nodes are connected to node a)"
   ]
  },
  {
   "cell_type": "markdown",
   "metadata": {},
   "source": [
    "## Adjacency Matrix "
   ]
  },
  {
   "cell_type": "code",
   "execution_count": 41,
   "metadata": {},
   "outputs": [],
   "source": [
    "a, b, c, d, e, f, g, h = range(8)\n",
    "# a b c d e f g h\n",
    "G = [\n",
    "    [0,1,1,1,1,1,0,0], # a\n",
    "    [0,0,1,0,1,0,0,0], # b\n",
    "    [0,0,0,1,0,0,0,0], # c\n",
    "    [0,0,0,0,1,0,0,0], # d\n",
    "    [0,0,0,0,0,1,0,0], # e\n",
    "    [0,0,1,0,0,0,1,1], # f\n",
    "    [0,0,0,0,0,1,0,1], # g\n",
    "    [0,0,0,0,0,1,1,0]  # h \n",
    "] "
   ]
  },
  {
   "cell_type": "code",
   "execution_count": 42,
   "metadata": {},
   "outputs": [
    {
     "data": {
      "text/plain": [
       "1"
      ]
     },
     "execution_count": 42,
     "metadata": {},
     "output_type": "execute_result"
    }
   ],
   "source": [
    "G[a][b]  # is b connected to a"
   ]
  },
  {
   "cell_type": "code",
   "execution_count": 43,
   "metadata": {},
   "outputs": [
    {
     "data": {
      "text/plain": [
       "5"
      ]
     },
     "execution_count": 43,
     "metadata": {},
     "output_type": "execute_result"
    }
   ],
   "source": [
    "sum(G[a]) # degree of node a (how many nodes are connected to node a)"
   ]
  },
  {
   "cell_type": "markdown",
   "metadata": {},
   "source": [
    "# Graph Theory Applications"
   ]
  },
  {
   "cell_type": "markdown",
   "metadata": {},
   "source": [
    "# What we are going to talk about:\n",
    "- Traversal\n",
    "- Connected Components\n",
    "- Breadth First Search\n",
    "- Depth First Search\n",
    "- Topological Sorting\n",
    "- Minimum Spanning Tree"
   ]
  },
  {
   "cell_type": "markdown",
   "metadata": {},
   "source": [
    "## Traversal:"
   ]
  },
  {
   "cell_type": "code",
   "execution_count": 99,
   "metadata": {},
   "outputs": [],
   "source": [
    "import time\n",
    "import pprint\n",
    "\n",
    "def walk(G, sink):                                    # Walk the graph from node s\n",
    "    Predecessors, Q = dict(), set()                   # Predecessors + \"to do\" queue\n",
    "    Predecessors[sink] = None                         # s has no predecessor\n",
    "    print(\"Initializing the queue by adding node {}\".format(sink))\n",
    "    Q.add(sink)                                       # We plan on starting with s\n",
    "    while Q:                                          # Still nodes to visit\n",
    "        u = Q.pop()                                   # Pick one, arbitrarily\n",
    "        print(\"Examining node {}\".format(u))\n",
    "        for v in G[u].difference(Predecessors):       # New nodes?\n",
    "            print(\"----Adding node {} to queue\".format(v))\n",
    "            Q.add(v)                                  # We plan to visit them!\n",
    "            Predecessors[v] = u                       # Remember where we came from\n",
    "        else:\n",
    "            print(\"=======\")\n",
    "    return Predecessors                               # The traversal tree"
   ]
  },
  {
   "cell_type": "code",
   "execution_count": 100,
   "metadata": {},
   "outputs": [
    {
     "name": "stdout",
     "output_type": "stream",
     "text": [
      "Initializing the queue by adding node a\n",
      "Examining node a\n",
      "----Adding node b to queue\n",
      "----Adding node d to queue\n",
      "----Adding node e to queue\n",
      "----Adding node c to queue\n",
      "----Adding node f to queue\n",
      "=======\n",
      "Examining node e\n",
      "=======\n",
      "Examining node c\n",
      "=======\n",
      "Examining node f\n",
      "----Adding node h to queue\n",
      "----Adding node g to queue\n",
      "=======\n",
      "Examining node h\n",
      "=======\n",
      "Examining node g\n",
      "=======\n",
      "Examining node b\n",
      "=======\n",
      "Examining node d\n",
      "=======\n",
      "{'a': None,\n",
      " 'b': 'a',\n",
      " 'c': 'a',\n",
      " 'd': 'a',\n",
      " 'e': 'a',\n",
      " 'f': 'a',\n",
      " 'g': 'f',\n",
      " 'h': 'f'}\n"
     ]
    }
   ],
   "source": [
    "traversal_path = walk(G,'a') # starting from node a\n",
    "pprint.pprint(traversal_path)"
   ]
  },
  {
   "cell_type": "markdown",
   "metadata": {},
   "source": [
    "## Notes:\n",
    "- nodes are arbitrarily selected from the queue\n",
    "- when adding new nodes, only add the ones that are not already visited\n",
    "- each time we add a new node to the queue, we set its predecessor; that is, we make sure I remember where I came from when I found it. That way we can rebuild the **traversal tree**.\n",
    "- `G[u]` is a set. but the `.difference()` method works with any iterable.\n",
    "- what happens if you start the walk from node 'b'?\n"
   ]
  },
  {
   "cell_type": "markdown",
   "metadata": {},
   "source": [
    "## Question: \n",
    "Is there a nice path across the seven Köningsberg bridges that crosses each bridge only once and returns to the starting point?\n",
    "#### - Answer: \n",
    "No\n",
    "#### - Why?\n",
    "**Euler** proved that a necessary condition for the existence of such path is that all vertices in the graph have an **even degree** (Why?)\n",
    "\n",
    "#### What is an Eulerian Cycle?"
   ]
  },
  {
   "cell_type": "markdown",
   "metadata": {},
   "source": [
    "![](euler.gif)"
   ]
  },
  {
   "cell_type": "markdown",
   "metadata": {},
   "source": [
    "See Also: [path](https://www.wikiwand.com/en/Path_(graph_theory)), [cycle](https://www.wikiwand.com/en/Cycle_(graph_theory)), [hamiltonian path](https://www.wikiwand.com/en/Hamiltonian_path)"
   ]
  },
  {
   "cell_type": "markdown",
   "metadata": {},
   "source": [
    "## Connected Components:\n",
    "- in an **undirected graph**\n",
    "- defined as the collection of nodes that are pair-wise accessible to each other through a **path**\n",
    "![](connected-components.png)"
   ]
  },
  {
   "cell_type": "markdown",
   "metadata": {},
   "source": [
    "## Strongly connected comopnents:\n",
    "- in a **directed graph**\n",
    "- defined as the collection of nodes that are pair-wise accessible to each other through a **path**\n",
    "![](strongly-connected-components.png)"
   ]
  },
  {
   "cell_type": "code",
   "execution_count": null,
   "metadata": {},
   "outputs": [],
   "source": []
  }
 ],
 "metadata": {
  "kernelspec": {
   "display_name": "Python 3",
   "language": "python",
   "name": "python3"
  },
  "language_info": {
   "codemirror_mode": {
    "name": "ipython",
    "version": 3
   },
   "file_extension": ".py",
   "mimetype": "text/x-python",
   "name": "python",
   "nbconvert_exporter": "python",
   "pygments_lexer": "ipython3",
   "version": "3.6.0"
  }
 },
 "nbformat": 4,
 "nbformat_minor": 2
}
