{
 "cells": [
  {
   "cell_type": "markdown",
   "metadata": {},
   "source": [
    "# **A JUMBLED introduction to Graph Theory**"
   ]
  },
  {
   "cell_type": "markdown",
   "metadata": {},
   "source": [
    "# [Köningsberg bridges](https://www.wikiwand.com/en/Seven_Bridges_of_K%C3%B6nigsberg)\n",
    "\n",
    "![\"\"](Koningsberg-bridges.png)"
   ]
  },
  {
   "cell_type": "markdown",
   "metadata": {},
   "source": [
    "**Euler** was asked in 1736 to find a nice path across the seven Köningsberg bridges that visits the "
   ]
  },
  {
   "cell_type": "markdown",
   "metadata": {},
   "source": [
    "![](Koningsberg-graph.png)"
   ]
  },
  {
   "cell_type": "markdown",
   "metadata": {},
   "source": [
    "# What we are going to talk about:\n",
    "- Traversal\n",
    "- Connected Components\n",
    "- Depth First Search\n",
    "- Topological Sorting\n",
    "- Breadth First Search (?)\n",
    "- Minimum Spanning Tree (?)"
   ]
  },
  {
   "cell_type": "markdown",
   "metadata": {},
   "source": [
    "# Definition\n",
    "A graph $G = (V, E)$ is \n",
    "- a pair of vertices (or nodes) $V$, and\n",
    "- a set of edges $E$, \n",
    "- both assumed finite i.e. \n",
    "    - $|V| = n$ and $|E| = m$."
   ]
  },
  {
   "cell_type": "markdown",
   "metadata": {},
   "source": [
    "### Example of a simple graph:\n",
    "\n",
    "![](sparse-graph.png)\n",
    "\n",
    "$\\LARGE V = \\{1, 2, 3, 4, 5, 6\\}$\n",
    "\n",
    "$\\LARGE E = \\{(1,4), (2,4), (3,4), (4,5), (5,6)\\}$\n",
    "\n",
    "$\\LARGE n = 6, m = 5$"
   ]
  },
  {
   "cell_type": "markdown",
   "metadata": {},
   "source": [
    "\n",
    "\n",
    "\n",
    "### Example of a multi graph:\n",
    "(a graph with multi-edges (AKA parallel edges), or edges that have the same endpoints)\n",
    "![Sample Directed Graph](sample-graph.png)\n",
    "\n",
    "# Graph Representation\n",
    "* adjacency matrix\n",
    "* adjacency list\n",
    "* adjacency set\n",
    "* adjacency dictionary\n",
    "* left-child right sibling"
   ]
  },
  {
   "cell_type": "markdown",
   "metadata": {},
   "source": [
    "We are sticking to **adjacency sets**. Their benefits: \n",
    "* as compact as adjacency lists for **sparse** graphs\n",
    "* O(1) look up, because sets!"
   ]
  },
  {
   "cell_type": "code",
   "execution_count": 1,
   "metadata": {},
   "outputs": [],
   "source": [
    "G = {\n",
    "'a': set('bcdef'),\n",
    "'b': set('ce'),\n",
    "'c': set('d'),\n",
    "'d': set('e'),\n",
    "'e': set('f'),\n",
    "'f': set('cgh'),\n",
    "'g': set('fh'),\n",
    "'h': set('fg')\n",
    "}"
   ]
  },
  {
   "cell_type": "markdown",
   "metadata": {},
   "source": [
    "## Density of a graph:\n",
    "\n",
    "\\begin{equation*}\n",
    "\\LARGE D = \\frac{2|E|}{|V|\\,(|V|-1)}\n",
    "\\end{equation*}\n"
   ]
  },
  {
   "cell_type": "markdown",
   "metadata": {},
   "source": [
    "## pop quiz:\n",
    "n people are clinking their drinks. Assuming no 2 clinks happen at the same time, how many of them will you hear?"
   ]
  },
  {
   "cell_type": "markdown",
   "metadata": {},
   "source": [
    "### Sparse graph:\n",
    "\\begin{equation*}\n",
    "\\LARGE|E| = O(|V|)\n",
    "\\end{equation*}\n",
    "\n",
    "![](sparse-graph.png)"
   ]
  },
  {
   "cell_type": "markdown",
   "metadata": {},
   "source": [
    "### Dense graph (this graph is also a complete graph):\n",
    "\\begin{equation*}\n",
    "\\LARGE |E| = O(|V|^2)\n",
    "\\end{equation*}\n",
    "![](complete-graph.png)"
   ]
  },
  {
   "cell_type": "code",
   "execution_count": 33,
   "metadata": {},
   "outputs": [],
   "source": [
    "G = {\n",
    "'a': set('bcdef'),\n",
    "'b': set('ce'),\n",
    "'c': set('d'),\n",
    "'d': set('e'),\n",
    "'e': set('f'),\n",
    "'f': set('cgh'),\n",
    "'g': set('fh'),\n",
    "'h': set('fg')\n",
    "}"
   ]
  },
  {
   "cell_type": "code",
   "execution_count": 3,
   "metadata": {},
   "outputs": [
    {
     "data": {
      "text/plain": [
       "{'a': {'b', 'c', 'd', 'e', 'f'},\n",
       " 'b': {'c', 'e'},\n",
       " 'c': {'d'},\n",
       " 'd': {'e'},\n",
       " 'e': {'f'},\n",
       " 'f': {'c', 'g', 'h'},\n",
       " 'g': {'f', 'h'},\n",
       " 'h': {'f', 'g'}}"
      ]
     },
     "execution_count": 3,
     "metadata": {},
     "output_type": "execute_result"
    }
   ],
   "source": [
    "G"
   ]
  },
  {
   "cell_type": "markdown",
   "metadata": {},
   "source": [
    "## Is node _`a`_ connected to node _b_?"
   ]
  },
  {
   "cell_type": "code",
   "execution_count": 4,
   "metadata": {},
   "outputs": [
    {
     "data": {
      "text/plain": [
       "True"
      ]
     },
     "execution_count": 4,
     "metadata": {},
     "output_type": "execute_result"
    }
   ],
   "source": [
    "'b' in G['a']  # O(1)"
   ]
  },
  {
   "cell_type": "markdown",
   "metadata": {},
   "source": [
    "## Degree of node $a$"
   ]
  },
  {
   "cell_type": "code",
   "execution_count": 5,
   "metadata": {},
   "outputs": [
    {
     "data": {
      "text/plain": [
       "5"
      ]
     },
     "execution_count": 5,
     "metadata": {},
     "output_type": "execute_result"
    }
   ],
   "source": [
    "len(G['a']) # degree of node a (how many nodes are connected to node a)"
   ]
  },
  {
   "cell_type": "markdown",
   "metadata": {},
   "source": [
    "## Adjacency Matrix "
   ]
  },
  {
   "cell_type": "code",
   "execution_count": 6,
   "metadata": {},
   "outputs": [],
   "source": [
    "a, b, c, d, e, f, g, h = range(8)\n",
    "# a b c d e f g h\n",
    "G2 = [\n",
    "    [0,1,1,1,1,1,0,0], # a\n",
    "    [0,0,1,0,1,0,0,0], # b\n",
    "    [0,0,0,1,0,0,0,0], # c\n",
    "    [0,0,0,0,1,0,0,0], # d\n",
    "    [0,0,0,0,0,1,0,0], # e\n",
    "    [0,0,1,0,0,0,1,1], # f\n",
    "    [0,0,0,0,0,1,0,1], # g\n",
    "    [0,0,0,0,0,1,1,0]  # h \n",
    "] "
   ]
  },
  {
   "cell_type": "code",
   "execution_count": 7,
   "metadata": {},
   "outputs": [
    {
     "data": {
      "text/plain": [
       "1"
      ]
     },
     "execution_count": 7,
     "metadata": {},
     "output_type": "execute_result"
    }
   ],
   "source": [
    "G2[a][b]  # is b connected to a"
   ]
  },
  {
   "cell_type": "code",
   "execution_count": 8,
   "metadata": {},
   "outputs": [
    {
     "data": {
      "text/plain": [
       "5"
      ]
     },
     "execution_count": 8,
     "metadata": {},
     "output_type": "execute_result"
    }
   ],
   "source": [
    "sum(G2[a]) # degree of node a (how many nodes are connected to node a)"
   ]
  },
  {
   "cell_type": "markdown",
   "metadata": {},
   "source": [
    "# Graph Theory Applications"
   ]
  },
  {
   "cell_type": "markdown",
   "metadata": {},
   "source": [
    "- crawlers in search engines\n",
    "- task schedulers\n",
    "- map traversal (Google map, etc)\n",
    "- Image processing (segmentation, etc)\n",
    "- Assignment problems\n",
    "    - How to assign workers to jobs\n",
    "    - How to assign machines to locations\n",
    "- Social media\n",
    "- etc"
   ]
  },
  {
   "cell_type": "markdown",
   "metadata": {},
   "source": [
    "## Traversal:\n",
    "![](walk.png)"
   ]
  },
  {
   "cell_type": "code",
   "execution_count": 34,
   "metadata": {},
   "outputs": [],
   "source": [
    "def walk(G, s, S=set()): # Walk the graph from node s\n",
    "    P, Q = dict(), set() # Predecessors + \"to do\" queue\n",
    "    P[s] = None # s has no predecessor\n",
    "    Q.add(s) # We plan on starting with s\n",
    "    while Q: # Still nodes to visit\n",
    "        u = Q.pop() # Pick one, arbitrarily\n",
    "        for v in G[u].difference(P, S): # New nodes?\n",
    "            Q.add(v) # We plan to visit them!\n",
    "            P[v] = u # Remember where we came from\n",
    "    return P # The traversal "
   ]
  },
  {
   "cell_type": "code",
   "execution_count": 35,
   "metadata": {},
   "outputs": [
    {
     "name": "stdout",
     "output_type": "stream",
     "text": [
      "result: \n",
      " {'a': None, 'e': 'a', 'd': 'a', 'c': 'a', 'b': 'a', 'f': 'a', 'h': 'f', 'g': 'f'}\n"
     ]
    }
   ],
   "source": [
    "traversal_path = walk(G,'a') # starting from node a\n",
    "print(\"result: \\n\", traversal_path)"
   ]
  },
  {
   "cell_type": "markdown",
   "metadata": {},
   "source": [
    "## Traversal Path:\n",
    "Shown in red\n",
    "\n",
    "![](traversal-tree.png)"
   ]
  },
  {
   "cell_type": "markdown",
   "metadata": {},
   "source": [
    "## Notes:\n",
    "- nodes are arbitrarily selected from the queue\n",
    "- when adding new nodes, only add the ones that are not already visited\n",
    "- each time we add a new node to the queue, we set its predecessor; that is, we make sure we remember where we came from when we found it. That way we can rebuild the **traversal tree**.\n",
    "- `G[u]` is a set. but the `.difference()` method works with any iterable.\n",
    "- what happens if you start the walk from node 'b'?\n"
   ]
  },
  {
   "cell_type": "markdown",
   "metadata": {},
   "source": [
    "## Question: \n",
    "Is there a nice path across the seven Köningsberg bridges that crosses each bridge only once and returns to the starting point? (we are allowed to visit each island more than once)\n",
    "#### - Answer: \n",
    "No\n",
    "#### - Why?\n",
    "**Euler** proved that a necessary condition for the existence of such path is that all vertices in the graph have an **even degree** (Why?)\n",
    "\n",
    "#### What is an Eulerian Cycle?"
   ]
  },
  {
   "cell_type": "markdown",
   "metadata": {},
   "source": [
    "![](euler.gif)"
   ]
  },
  {
   "cell_type": "markdown",
   "metadata": {},
   "source": [
    "See Also: [walk & path](https://www.wikiwand.com/en/Path_(graph_theory)), [cycle](https://www.wikiwand.com/en/Cycle_(graph_theory)), [hamiltonian path](https://www.wikiwand.com/en/Hamiltonian_path)"
   ]
  },
  {
   "cell_type": "markdown",
   "metadata": {},
   "source": [
    "## Connected Components:\n",
    "- in an **undirected graph**\n",
    "- defined as the collection of nodes that are pair-wise accessible to each other through a **path**\n",
    "\n",
    "![](connected-components.png)"
   ]
  },
  {
   "cell_type": "code",
   "execution_count": 36,
   "metadata": {},
   "outputs": [],
   "source": [
    "G = {\n",
    "'a': set('bcd'),\n",
    "'b': set('ad'),\n",
    "'c': set('ad'),\n",
    "'d': set('abc'),\n",
    "'e': set('fg'),\n",
    "'f': set('eg'),\n",
    "'g': set('ef'),\n",
    "'h': set('i'),\n",
    "'i': set('h')\n",
    "}"
   ]
  },
  {
   "cell_type": "markdown",
   "metadata": {},
   "source": [
    "## Questions:\n",
    "#### 1. will we visit all the nodes all the time if we use the above `walk()` function?\n",
    "#### 2. How can we detect all the connected components in a graph?\n",
    "\n",
    "## Answers:\n",
    "1. No. Depending on the node we start the walk from, some nodes may not be reachable.\n",
    "2. We make sure to iterate over all the nodes and re-start the walk on the nodes that are not reached yet in previous walks. Function `components()` below."
   ]
  },
  {
   "cell_type": "code",
   "execution_count": 37,
   "metadata": {},
   "outputs": [
    {
     "data": {
      "text/plain": [
       "[{'a': None, 'b': 'a', 'c': 'a', 'd': 'a'},\n",
       " {'e': None, 'g': 'e', 'f': 'e'},\n",
       " {'h': None, 'i': 'h'}]"
      ]
     },
     "execution_count": 37,
     "metadata": {},
     "output_type": "execute_result"
    }
   ],
   "source": [
    "# %load components.py\n",
    "def components(G): # The connected components\n",
    "    comp = []\n",
    "    seen = set() # Nodes we've already seen\n",
    "    for u in G: # Try every starting point\n",
    "        if u in seen: continue # Seen? Ignore it\n",
    "        C = walk(G, u) # Traverse component\n",
    "        seen.update(C) # Add keys of C to seen\n",
    "        comp.append(C) # Collect the components\n",
    "    return comp\n",
    "\n",
    "\n",
    "comps = components(G)\n",
    "comps"
   ]
  },
  {
   "cell_type": "markdown",
   "metadata": {},
   "source": [
    "## Strongly connected comopnents:\n",
    "- in a **directed graph**\n",
    "- defined as the collection of nodes that are pair-wise accessible to each other through a **path**\n",
    "\n",
    "![](strongly-connected-components.png)\n",
    "\n",
    "\n",
    "**Methods** to solve Strongly Connected Components? (we will come back to this after **topological sorting**)\n",
    "- Kosaraju's algorithm \n",
    "- Tarjan's algorithm"
   ]
  },
  {
   "cell_type": "markdown",
   "metadata": {},
   "source": [
    "# Depth-first-search traversal\n"
   ]
  },
  {
   "cell_type": "markdown",
   "metadata": {},
   "source": [
    "- you are wearing muddy boots and walking in a maze.\n",
    "- you **backtrack** any time you reach a dead end.\n",
    "- DFS from a single node will traverse all the nodes that are connected to the starting node (not necessarily the whole graph)\n",
    "- [example](https://visualgo.net/en/dfsbfs) (raise your hand if the example is not clear to you)"
   ]
  },
  {
   "cell_type": "code",
   "execution_count": 38,
   "metadata": {},
   "outputs": [],
   "source": [
    "def iter_dfs(G, s):\n",
    "    S, Q = set(), [] # Visited-set and queue\n",
    "    Q.append(s) # We plan on visiting s\n",
    "    while Q: # Planned nodes left?\n",
    "        u = Q.pop() # Get one\n",
    "        if u in S: continue # Already visited? Skip it\n",
    "        S.add(u) # We've visited it now\n",
    "        Q.extend(G[u]) # Schedule all neighbors\n",
    "        yield u # Report u as visited"
   ]
  },
  {
   "cell_type": "code",
   "execution_count": 39,
   "metadata": {},
   "outputs": [
    {
     "name": "stdout",
     "output_type": "stream",
     "text": [
      "a\n",
      "d\n",
      "c\n",
      "b\n"
     ]
    }
   ],
   "source": [
    "for node in iter_dfs(G, 'a'):\n",
    "    print(node)"
   ]
  },
  {
   "cell_type": "code",
   "execution_count": 40,
   "metadata": {},
   "outputs": [
    {
     "name": "stdout",
     "output_type": "stream",
     "text": [
      "b\n",
      "d\n",
      "a\n",
      "c\n"
     ]
    }
   ],
   "source": [
    "for node in iter_dfs(G, 'b'):\n",
    "    print(node)"
   ]
  },
  {
   "cell_type": "code",
   "execution_count": 41,
   "metadata": {},
   "outputs": [
    {
     "name": "stdout",
     "output_type": "stream",
     "text": [
      "e\n",
      "f\n",
      "g\n"
     ]
    }
   ],
   "source": [
    "for node in iter_dfs(G, 'e'):\n",
    "    print(node)"
   ]
  },
  {
   "cell_type": "code",
   "execution_count": 42,
   "metadata": {},
   "outputs": [
    {
     "name": "stdout",
     "output_type": "stream",
     "text": [
      "h\n",
      "i\n"
     ]
    }
   ],
   "source": [
    "for node in iter_dfs(G, 'h'):\n",
    "    print(node)"
   ]
  },
  {
   "cell_type": "markdown",
   "metadata": {},
   "source": [
    "# topological sort"
   ]
  },
  {
   "cell_type": "markdown",
   "metadata": {},
   "source": [
    "Input: A Directed Acyclic Graph\n",
    "\n",
    "Ouptut: an ordering of the nodes in such a way, that if there is an edge directed towards vertex $v_j$ from vertex $v_i$, then $v_i$ comes before $v_j$. \n",
    "\n",
    "![](topsortexample.png)\n",
    "\n",
    "\n",
    "There are multiple topological sorting possible for a graph.\n",
    "\n",
    "Example: $\\Large [1, 2, 3, 4, 5]$ and $\\Large [1, 2, 3, 5, 4]$ for the graph below\n",
    "\n",
    "\n",
    "\n",
    "## Question 1: \n",
    "\n",
    "Is $\\Large [1, 2, 4, 3, 5]$ a topological sorting of the graph?\n",
    "\n",
    "## Question 2:\n",
    "\n",
    "When does a graph have a topological sorting?\n",
    "\n",
    "### Answer 2:\n",
    "\n",
    "When it is a DAG. (no cycles)\n",
    "\n",
    "Before we can continue, we need to study an extension of DFS:\n",
    "# Depth First Timestamp\n",
    "\n",
    "The thing that is particular to DFS trees is that all descendants of a node $u$ are processed in the time interval from when $u$ is discovered to when we backtrack through it.\n",
    "\n",
    "- We keep a counter that we increment any time we discover a node or finish with a node."
   ]
  },
  {
   "cell_type": "code",
   "execution_count": 18,
   "metadata": {},
   "outputs": [],
   "source": [
    "DAG = {\n",
    "'1': set('23'),\n",
    "'2': set('34'),\n",
    "'3': set('45'),\n",
    "'4': set(),\n",
    "'5': set(),\n",
    "}"
   ]
  },
  {
   "cell_type": "code",
   "execution_count": 19,
   "metadata": {},
   "outputs": [],
   "source": [
    "\n",
    "\n",
    "def dfs(G, s, d, f, S=None, t=0):\n",
    "    \n",
    "    \"\"\"Traverse a graph in DFS fasion.\n",
    "    Keyword arguments:\n",
    "    G -- Input Graph\n",
    "    s -- the starting node (sink)\n",
    "    d -- Discover time (when node added to Q)\n",
    "    f -- Finish time (when all the childred of a node are finished)\n",
    "    S -- Forbidden Zone (List of nodes that should not be traversed)\n",
    "    t -- timestamp\n",
    "    \"\"\"\n",
    "    \n",
    "    if S is None: S = set() # Initialize the history\n",
    "    d[s] = t; t += 1 # Set discover time\n",
    "    S.add(s) # We've visited s\n",
    "    for u in G[s]: # Explore neighbors\n",
    "        if u in S: continue # Already visited. Skip\n",
    "        t = dfs(G, u, d, f, S, t) # Recurse; update timestamp\n",
    "    f[s] = t; t += 1 # Set finish time\n",
    "    return t # Return timestamp"
   ]
  },
  {
   "cell_type": "code",
   "execution_count": 20,
   "metadata": {},
   "outputs": [
    {
     "name": "stdout",
     "output_type": "stream",
     "text": [
      "====================\n",
      "Discovered times:  {'1': 0, '2': 1, '4': 2, '3': 4, '5': 5}\n",
      "Finished times:  {'4': 3, '5': 6, '3': 7, '2': 8, '1': 9}\n",
      "====================\n",
      "\n",
      "A TOPOLOGICAL sorting:  ['1', '2', '3', '5', '4']\n",
      "====================\n"
     ]
    }
   ],
   "source": [
    "import operator \n",
    "\n",
    "d, f = {}, {}\n",
    "starting_node = '1'  # change this to '2', '3', '4' and compare the results\n",
    "dfs(DAG, starting_node, d, f)\n",
    "\n",
    "# converting to list and sorting descendingly based on finishing time\n",
    "sorted_f = sorted(f.items(), key=operator.itemgetter(1), reverse=True)\n",
    "print(\"====================\")\n",
    "print(\"Discovered times: \", d)\n",
    "print(\"Finished times: \", f)\n",
    "print(\"====================\")\n",
    "print(\"\\nA TOPOLOGICAL sorting: \", [k[0] for k in sorted_f])\n",
    "print(\"====================\")"
   ]
  },
  {
   "cell_type": "markdown",
   "metadata": {},
   "source": [
    "## Notes:\n",
    "    - At every timestamp, we are either discovering or getting \n",
    "    finished with a single node\n",
    "    - Every node is discovered before its descendants.\n",
    "    - Every node is finished after its descendants.\n",
    "    - The dfs function above is not iterating over all the nodes. We need to do that to \n",
    "    detect all the finishing times for all the nodes and to ensure we cover\n",
    "    the entire graph"
   ]
  },
  {
   "cell_type": "code",
   "execution_count": 21,
   "metadata": {},
   "outputs": [
    {
     "data": {
      "text/plain": [
       "['e', 'g', 'f', 'a', 'b', 'd', 'c', 'i', 'h']"
      ]
     },
     "execution_count": 21,
     "metadata": {},
     "output_type": "execute_result"
    }
   ],
   "source": [
    "# we are using a trick to improve the time complexity.\n",
    "# As nodes are finished, add them to a list\n",
    "# eventually instead of sorting the nodes based on their \n",
    "# finish time, we can just reverse this list (cheaper than sorting)\n",
    "\n",
    "# We are using python closures here\n",
    "\n",
    "def dfs_topsort(G):\n",
    "    S, res = set(), [] # History and result\n",
    "    \n",
    "    def recurse(u): # Traversal subroutine\n",
    "        if u in S: return # Ignore visited nodes\n",
    "        S.add(u) # Otherwise: Add to history\n",
    "        for v in G[u]:\n",
    "            recurse(v) # Recurse through neighbors\n",
    "        res.append(u) # Finished with u: Append it\n",
    "        \n",
    "    for u in G:\n",
    "        recurse(u) # Cover entire graph\n",
    "        res.reverse() # It's all backward so far\n",
    "    \n",
    "    return res\n",
    "\n",
    "\n",
    "dfs_topsort(G)"
   ]
  },
  {
   "cell_type": "markdown",
   "metadata": {},
   "source": [
    "## Strongly Connected Components -- **Revisited**\n",
    "\n",
    "input graph:\n",
    "\n",
    "![](strongly-connected-components.png)\n",
    "\n",
    "\n",
    "create the SCC graph by converting strongly connected components into super nodes:\n",
    "\n",
    "![](scc.png)\n",
    "\n",
    "\n",
    "## Questions:\n",
    "1. Why is the SCC graph acyclic?\n",
    "\n",
    "2. Establishing that SCC graph is acyclic, how does the finish time of any node in $A$ compare to the finish time of any node in $B$? \n",
    "\n",
    "3. What happens to the strongly connected componenets if we reverse the direction of edges?\n",
    "\n",
    "## Answers\n",
    "\n",
    "1. This graph is also **acyclic**. Otherwise we would have had to merge the supernodes belonging to the cycle into a larger scc.\n",
    "\n",
    "2. A > B\n",
    "\n",
    "3. SCC nodes stay the same, but you could no longer get out of A. And if you had traversed A and started a new round in B, you couldn’t escape from that, leaving only C\n",
    "\n",
    "# Kosaraju's algorithm:\n",
    "Perform two rounds of DFS.\n",
    "- The first one sorts out the nodes based on descending order of finishing time. Let's call the result L.\n",
    "- The second one performs DFS on nodes from L in order\n",
    "\n",
    "## Explanation:\n",
    "\n",
    "If there’s an edge from A to B, A will have a later (final) finish time than B. If we choose starting points for our (second) traversal based on\n",
    "decreasing finish times, this means that we’ll visit A before B. Now, if we reverse all the edges, we can still explore all of\n",
    "A, but we can’t move on to B, and this lets us explore a single SCC at a time."
   ]
  },
  {
   "cell_type": "code",
   "execution_count": 29,
   "metadata": {},
   "outputs": [],
   "source": [
    "def tr(G): # Transpose (rev. edges of) G\n",
    "    GT = {}\n",
    "    for u in G: GT[u] = set() # Get all the nodes in there\n",
    "    for u in G:\n",
    "        for v in G[u]:\n",
    "            GT[v].add(u) # Add all reverse edges\n",
    "    return GT\n",
    "\n",
    "\n",
    "def scc(G):\n",
    "    GT = tr(G) # Get the transposed graph\n",
    "    sccs, seen = [], set()\n",
    "    for u in dfs_topsort(G): # DFS starting points\n",
    "        if u in seen: continue # Ignore covered nodes\n",
    "        C = walk(GT, u, seen) # Don't go \"backward\" (seen)\n",
    "        seen.update(C) # We've now seen C\n",
    "        sccs.append(C) # Another SCC found\n",
    "    return sccs"
   ]
  },
  {
   "cell_type": "markdown",
   "metadata": {},
   "source": [
    "## [Breadth First Traversal](https://www.hackerearth.com/practice/algorithms/graphs/breadth-first-search/visualize/)\n"
   ]
  },
  {
   "cell_type": "code",
   "execution_count": 25,
   "metadata": {},
   "outputs": [],
   "source": [
    "# code for breadth first traversal\n",
    "def bfs(G, s):\n",
    "    P, Q = {s: None}, deque([s]) # Parents and FIFO queue\n",
    "    while Q:\n",
    "        u = Q.popleft() # Constant-time for deque\n",
    "        for v in G[u]:\n",
    "            if v in P: continue # Already has parent\n",
    "            P[v] = u # Reached from u: u is parent\n",
    "            Q.append(v)\n",
    "    return P"
   ]
  },
  {
   "cell_type": "markdown",
   "metadata": {},
   "source": [
    "## Question:\n",
    "    - Why are we using a deque?"
   ]
  },
  {
   "cell_type": "markdown",
   "metadata": {},
   "source": [
    "# BFS example: Dijkstra's Algorithm\n",
    "##### [src](https://medium.com/basecs/finding-the-shortest-path-with-a-little-help-from-dijkstra-613149fbdc8e)\n",
    "\n",
    "### Compute the shortest distance between node $a$ and node $e$\n",
    "![](dijkstra.png)"
   ]
  },
  {
   "cell_type": "markdown",
   "metadata": {},
   "source": [
    "## [Minimum Spanning Tree](https://www.hackerearth.com/practice/algorithms/graphs/minimum-spanning-tree/tutorial/)\n",
    "\n",
    "- What is a tree?\n",
    "- What is the weight of a tree?\n",
    "- What is minimum spanning tree?\n"
   ]
  },
  {
   "cell_type": "markdown",
   "metadata": {},
   "source": [
    "## This was an overview of the 5th chapter of [this book](https://www.amazon.com/Python-Algorithms-Mastering-Basic-Language-ebook/dp/B00LPDVBLS)"
   ]
  },
  {
   "cell_type": "code",
   "execution_count": null,
   "metadata": {},
   "outputs": [],
   "source": []
  }
 ],
 "metadata": {
  "kernelspec": {
   "display_name": "Python 3",
   "language": "python",
   "name": "python3"
  },
  "language_info": {
   "codemirror_mode": {
    "name": "ipython",
    "version": 3
   },
   "file_extension": ".py",
   "mimetype": "text/x-python",
   "name": "python",
   "nbconvert_exporter": "python",
   "pygments_lexer": "ipython3",
   "version": "3.6.0"
  }
 },
 "nbformat": 4,
 "nbformat_minor": 2
}
